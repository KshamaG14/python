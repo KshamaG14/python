{
 "cells": [
  {
   "cell_type": "markdown",
   "id": "317d63e4",
   "metadata": {},
   "source": [
    "# Importing libraries"
   ]
  },
  {
   "cell_type": "code",
   "execution_count": 1,
   "id": "37d91e68",
   "metadata": {},
   "outputs": [],
   "source": [
    "import pandas as pd\n",
    "import numpy as np\n",
    "import matplotlib.pyplot as plt\n",
    "import seaborn as sns\n",
    "from sklearn.model_selection import train_test_split\n",
    "from imblearn.over_sampling import RandomOverSampler\n",
    "from collections import Counter\n",
    "from sklearn.linear_model import LinearRegression\n",
    "from sklearn import metrics\n",
    "from sklearn.preprocessing import LabelEncoder\n",
    "from sklearn.preprocessing import StandardScaler"
   ]
  },
  {
   "cell_type": "markdown",
   "id": "dbd2a4e3",
   "metadata": {},
   "source": [
    "# Import data"
   ]
  },
  {
   "cell_type": "code",
   "execution_count": 2,
   "id": "e43af8bf",
   "metadata": {},
   "outputs": [
    {
     "data": {
      "text/html": [
       "<div>\n",
       "<style scoped>\n",
       "    .dataframe tbody tr th:only-of-type {\n",
       "        vertical-align: middle;\n",
       "    }\n",
       "\n",
       "    .dataframe tbody tr th {\n",
       "        vertical-align: top;\n",
       "    }\n",
       "\n",
       "    .dataframe thead th {\n",
       "        text-align: right;\n",
       "    }\n",
       "</style>\n",
       "<table border=\"1\" class=\"dataframe\">\n",
       "  <thead>\n",
       "    <tr style=\"text-align: right;\">\n",
       "      <th></th>\n",
       "      <th>Species</th>\n",
       "      <th>Weight</th>\n",
       "      <th>Length1</th>\n",
       "      <th>Length2</th>\n",
       "      <th>Length3</th>\n",
       "      <th>Height</th>\n",
       "      <th>Width</th>\n",
       "    </tr>\n",
       "  </thead>\n",
       "  <tbody>\n",
       "    <tr>\n",
       "      <th>0</th>\n",
       "      <td>Bream</td>\n",
       "      <td>242.0</td>\n",
       "      <td>23.2</td>\n",
       "      <td>25.4</td>\n",
       "      <td>30.0</td>\n",
       "      <td>11.5200</td>\n",
       "      <td>4.0200</td>\n",
       "    </tr>\n",
       "    <tr>\n",
       "      <th>1</th>\n",
       "      <td>Bream</td>\n",
       "      <td>290.0</td>\n",
       "      <td>24.0</td>\n",
       "      <td>26.3</td>\n",
       "      <td>31.2</td>\n",
       "      <td>12.4800</td>\n",
       "      <td>4.3056</td>\n",
       "    </tr>\n",
       "    <tr>\n",
       "      <th>2</th>\n",
       "      <td>Bream</td>\n",
       "      <td>340.0</td>\n",
       "      <td>23.9</td>\n",
       "      <td>26.5</td>\n",
       "      <td>31.1</td>\n",
       "      <td>12.3778</td>\n",
       "      <td>4.6961</td>\n",
       "    </tr>\n",
       "    <tr>\n",
       "      <th>3</th>\n",
       "      <td>Bream</td>\n",
       "      <td>363.0</td>\n",
       "      <td>26.3</td>\n",
       "      <td>29.0</td>\n",
       "      <td>33.5</td>\n",
       "      <td>12.7300</td>\n",
       "      <td>4.4555</td>\n",
       "    </tr>\n",
       "    <tr>\n",
       "      <th>4</th>\n",
       "      <td>Bream</td>\n",
       "      <td>430.0</td>\n",
       "      <td>26.5</td>\n",
       "      <td>29.0</td>\n",
       "      <td>34.0</td>\n",
       "      <td>12.4440</td>\n",
       "      <td>5.1340</td>\n",
       "    </tr>\n",
       "    <tr>\n",
       "      <th>...</th>\n",
       "      <td>...</td>\n",
       "      <td>...</td>\n",
       "      <td>...</td>\n",
       "      <td>...</td>\n",
       "      <td>...</td>\n",
       "      <td>...</td>\n",
       "      <td>...</td>\n",
       "    </tr>\n",
       "    <tr>\n",
       "      <th>154</th>\n",
       "      <td>Smelt</td>\n",
       "      <td>12.2</td>\n",
       "      <td>11.5</td>\n",
       "      <td>12.2</td>\n",
       "      <td>13.4</td>\n",
       "      <td>2.0904</td>\n",
       "      <td>1.3936</td>\n",
       "    </tr>\n",
       "    <tr>\n",
       "      <th>155</th>\n",
       "      <td>Smelt</td>\n",
       "      <td>13.4</td>\n",
       "      <td>11.7</td>\n",
       "      <td>12.4</td>\n",
       "      <td>13.5</td>\n",
       "      <td>2.4300</td>\n",
       "      <td>1.2690</td>\n",
       "    </tr>\n",
       "    <tr>\n",
       "      <th>156</th>\n",
       "      <td>Smelt</td>\n",
       "      <td>12.2</td>\n",
       "      <td>12.1</td>\n",
       "      <td>13.0</td>\n",
       "      <td>13.8</td>\n",
       "      <td>2.2770</td>\n",
       "      <td>1.2558</td>\n",
       "    </tr>\n",
       "    <tr>\n",
       "      <th>157</th>\n",
       "      <td>Smelt</td>\n",
       "      <td>19.7</td>\n",
       "      <td>13.2</td>\n",
       "      <td>14.3</td>\n",
       "      <td>15.2</td>\n",
       "      <td>2.8728</td>\n",
       "      <td>2.0672</td>\n",
       "    </tr>\n",
       "    <tr>\n",
       "      <th>158</th>\n",
       "      <td>Smelt</td>\n",
       "      <td>19.9</td>\n",
       "      <td>13.8</td>\n",
       "      <td>15.0</td>\n",
       "      <td>16.2</td>\n",
       "      <td>2.9322</td>\n",
       "      <td>1.8792</td>\n",
       "    </tr>\n",
       "  </tbody>\n",
       "</table>\n",
       "<p>159 rows × 7 columns</p>\n",
       "</div>"
      ],
      "text/plain": [
       "    Species  Weight  Length1  Length2  Length3   Height   Width\n",
       "0     Bream   242.0     23.2     25.4     30.0  11.5200  4.0200\n",
       "1     Bream   290.0     24.0     26.3     31.2  12.4800  4.3056\n",
       "2     Bream   340.0     23.9     26.5     31.1  12.3778  4.6961\n",
       "3     Bream   363.0     26.3     29.0     33.5  12.7300  4.4555\n",
       "4     Bream   430.0     26.5     29.0     34.0  12.4440  5.1340\n",
       "..      ...     ...      ...      ...      ...      ...     ...\n",
       "154   Smelt    12.2     11.5     12.2     13.4   2.0904  1.3936\n",
       "155   Smelt    13.4     11.7     12.4     13.5   2.4300  1.2690\n",
       "156   Smelt    12.2     12.1     13.0     13.8   2.2770  1.2558\n",
       "157   Smelt    19.7     13.2     14.3     15.2   2.8728  2.0672\n",
       "158   Smelt    19.9     13.8     15.0     16.2   2.9322  1.8792\n",
       "\n",
       "[159 rows x 7 columns]"
      ]
     },
     "execution_count": 2,
     "metadata": {},
     "output_type": "execute_result"
    }
   ],
   "source": [
    "data=pd.read_csv(r\"C:\\Users\\vidya\\Downloads\\Fish.csv\")\n",
    "data"
   ]
  },
  {
   "cell_type": "code",
   "execution_count": 3,
   "id": "f363d48b",
   "metadata": {},
   "outputs": [
    {
     "name": "stdout",
     "output_type": "stream",
     "text": [
      "<class 'pandas.core.frame.DataFrame'>\n",
      "RangeIndex: 159 entries, 0 to 158\n",
      "Data columns (total 7 columns):\n",
      " #   Column   Non-Null Count  Dtype  \n",
      "---  ------   --------------  -----  \n",
      " 0   Species  159 non-null    object \n",
      " 1   Weight   159 non-null    float64\n",
      " 2   Length1  159 non-null    float64\n",
      " 3   Length2  159 non-null    float64\n",
      " 4   Length3  159 non-null    float64\n",
      " 5   Height   159 non-null    float64\n",
      " 6   Width    159 non-null    float64\n",
      "dtypes: float64(6), object(1)\n",
      "memory usage: 8.8+ KB\n"
     ]
    }
   ],
   "source": [
    "data.info()"
   ]
  },
  {
   "cell_type": "code",
   "execution_count": 4,
   "id": "1741f706",
   "metadata": {},
   "outputs": [
    {
     "data": {
      "text/html": [
       "<div>\n",
       "<style scoped>\n",
       "    .dataframe tbody tr th:only-of-type {\n",
       "        vertical-align: middle;\n",
       "    }\n",
       "\n",
       "    .dataframe tbody tr th {\n",
       "        vertical-align: top;\n",
       "    }\n",
       "\n",
       "    .dataframe thead th {\n",
       "        text-align: right;\n",
       "    }\n",
       "</style>\n",
       "<table border=\"1\" class=\"dataframe\">\n",
       "  <thead>\n",
       "    <tr style=\"text-align: right;\">\n",
       "      <th></th>\n",
       "      <th>Weight</th>\n",
       "      <th>Length1</th>\n",
       "      <th>Length2</th>\n",
       "      <th>Length3</th>\n",
       "      <th>Height</th>\n",
       "      <th>Width</th>\n",
       "    </tr>\n",
       "  </thead>\n",
       "  <tbody>\n",
       "    <tr>\n",
       "      <th>count</th>\n",
       "      <td>159.000000</td>\n",
       "      <td>159.000000</td>\n",
       "      <td>159.000000</td>\n",
       "      <td>159.000000</td>\n",
       "      <td>159.000000</td>\n",
       "      <td>159.000000</td>\n",
       "    </tr>\n",
       "    <tr>\n",
       "      <th>mean</th>\n",
       "      <td>398.326415</td>\n",
       "      <td>26.247170</td>\n",
       "      <td>28.415723</td>\n",
       "      <td>31.227044</td>\n",
       "      <td>8.970994</td>\n",
       "      <td>4.417486</td>\n",
       "    </tr>\n",
       "    <tr>\n",
       "      <th>std</th>\n",
       "      <td>357.978317</td>\n",
       "      <td>9.996441</td>\n",
       "      <td>10.716328</td>\n",
       "      <td>11.610246</td>\n",
       "      <td>4.286208</td>\n",
       "      <td>1.685804</td>\n",
       "    </tr>\n",
       "    <tr>\n",
       "      <th>min</th>\n",
       "      <td>0.000000</td>\n",
       "      <td>7.500000</td>\n",
       "      <td>8.400000</td>\n",
       "      <td>8.800000</td>\n",
       "      <td>1.728400</td>\n",
       "      <td>1.047600</td>\n",
       "    </tr>\n",
       "    <tr>\n",
       "      <th>25%</th>\n",
       "      <td>120.000000</td>\n",
       "      <td>19.050000</td>\n",
       "      <td>21.000000</td>\n",
       "      <td>23.150000</td>\n",
       "      <td>5.944800</td>\n",
       "      <td>3.385650</td>\n",
       "    </tr>\n",
       "    <tr>\n",
       "      <th>50%</th>\n",
       "      <td>273.000000</td>\n",
       "      <td>25.200000</td>\n",
       "      <td>27.300000</td>\n",
       "      <td>29.400000</td>\n",
       "      <td>7.786000</td>\n",
       "      <td>4.248500</td>\n",
       "    </tr>\n",
       "    <tr>\n",
       "      <th>75%</th>\n",
       "      <td>650.000000</td>\n",
       "      <td>32.700000</td>\n",
       "      <td>35.500000</td>\n",
       "      <td>39.650000</td>\n",
       "      <td>12.365900</td>\n",
       "      <td>5.584500</td>\n",
       "    </tr>\n",
       "    <tr>\n",
       "      <th>max</th>\n",
       "      <td>1650.000000</td>\n",
       "      <td>59.000000</td>\n",
       "      <td>63.400000</td>\n",
       "      <td>68.000000</td>\n",
       "      <td>18.957000</td>\n",
       "      <td>8.142000</td>\n",
       "    </tr>\n",
       "  </tbody>\n",
       "</table>\n",
       "</div>"
      ],
      "text/plain": [
       "            Weight     Length1     Length2     Length3      Height       Width\n",
       "count   159.000000  159.000000  159.000000  159.000000  159.000000  159.000000\n",
       "mean    398.326415   26.247170   28.415723   31.227044    8.970994    4.417486\n",
       "std     357.978317    9.996441   10.716328   11.610246    4.286208    1.685804\n",
       "min       0.000000    7.500000    8.400000    8.800000    1.728400    1.047600\n",
       "25%     120.000000   19.050000   21.000000   23.150000    5.944800    3.385650\n",
       "50%     273.000000   25.200000   27.300000   29.400000    7.786000    4.248500\n",
       "75%     650.000000   32.700000   35.500000   39.650000   12.365900    5.584500\n",
       "max    1650.000000   59.000000   63.400000   68.000000   18.957000    8.142000"
      ]
     },
     "execution_count": 4,
     "metadata": {},
     "output_type": "execute_result"
    }
   ],
   "source": [
    "data.describe()"
   ]
  },
  {
   "cell_type": "code",
   "execution_count": 5,
   "id": "00d3c87c",
   "metadata": {},
   "outputs": [
    {
     "data": {
      "text/plain": [
       "Species    0\n",
       "Weight     0\n",
       "Length1    0\n",
       "Length2    0\n",
       "Length3    0\n",
       "Height     0\n",
       "Width      0\n",
       "dtype: int64"
      ]
     },
     "execution_count": 5,
     "metadata": {},
     "output_type": "execute_result"
    }
   ],
   "source": [
    "data.isnull().sum()"
   ]
  },
  {
   "cell_type": "code",
   "execution_count": 6,
   "id": "e3a1ab8a",
   "metadata": {},
   "outputs": [
    {
     "data": {
      "text/plain": [
       "Perch        56\n",
       "Bream        35\n",
       "Roach        20\n",
       "Pike         17\n",
       "Smelt        14\n",
       "Parkki       11\n",
       "Whitefish     6\n",
       "Name: Species, dtype: int64"
      ]
     },
     "execution_count": 6,
     "metadata": {},
     "output_type": "execute_result"
    }
   ],
   "source": [
    "data[\"Species\"].value_counts()"
   ]
  },
  {
   "cell_type": "code",
   "execution_count": 7,
   "id": "9c5804fa",
   "metadata": {},
   "outputs": [
    {
     "data": {
      "text/html": [
       "<div>\n",
       "<style scoped>\n",
       "    .dataframe tbody tr th:only-of-type {\n",
       "        vertical-align: middle;\n",
       "    }\n",
       "\n",
       "    .dataframe tbody tr th {\n",
       "        vertical-align: top;\n",
       "    }\n",
       "\n",
       "    .dataframe thead th {\n",
       "        text-align: right;\n",
       "    }\n",
       "</style>\n",
       "<table border=\"1\" class=\"dataframe\">\n",
       "  <thead>\n",
       "    <tr style=\"text-align: right;\">\n",
       "      <th></th>\n",
       "      <th>Perch</th>\n",
       "      <th>Bream</th>\n",
       "      <th>Roach</th>\n",
       "      <th>Pike</th>\n",
       "      <th>Smelt</th>\n",
       "      <th>Parkki</th>\n",
       "      <th>Whitefish</th>\n",
       "    </tr>\n",
       "  </thead>\n",
       "  <tbody>\n",
       "    <tr>\n",
       "      <th>Species</th>\n",
       "      <td>56</td>\n",
       "      <td>35</td>\n",
       "      <td>20</td>\n",
       "      <td>17</td>\n",
       "      <td>14</td>\n",
       "      <td>11</td>\n",
       "      <td>6</td>\n",
       "    </tr>\n",
       "  </tbody>\n",
       "</table>\n",
       "</div>"
      ],
      "text/plain": [
       "         Perch  Bream  Roach  Pike  Smelt  Parkki  Whitefish\n",
       "Species     56     35     20    17     14      11          6"
      ]
     },
     "execution_count": 7,
     "metadata": {},
     "output_type": "execute_result"
    }
   ],
   "source": [
    "d1=pd.DataFrame(data[\"Species\"].value_counts())\n",
    "d1.T"
   ]
  },
  {
   "cell_type": "code",
   "execution_count": 8,
   "id": "c19e5693",
   "metadata": {},
   "outputs": [
    {
     "data": {
      "text/plain": [
       "<function matplotlib.pyplot.show(close=None, block=None)>"
      ]
     },
     "execution_count": 8,
     "metadata": {},
     "output_type": "execute_result"
    },
    {
     "data": {
      "image/png": "[encoded data removed]",
      "text/plain": [
       "<Figure size 432x288 with 1 Axes>"
      ]
     },
     "metadata": {
      "needs_background": "light"
     },
     "output_type": "display_data"
    }
   ],
   "source": [
    "sns.barplot(x=d1.index,y=d1.Species)\n",
    "plt.xlabel(\"Species\")\n",
    "plt.ylabel(\"Count of Species\")\n",
    "plt.title(\"Fish count based on species\")\n",
    "plt.show"
   ]
  },
  {
   "cell_type": "markdown",
   "id": "6f4a477a",
   "metadata": {},
   "source": [
    "# Label Encoding"
   ]
  },
  {
   "cell_type": "code",
   "execution_count": 9,
   "id": "9af4ecb2",
   "metadata": {},
   "outputs": [],
   "source": [
    "l=LabelEncoder()\n",
    "data[\"Species\"]=l.fit_transform(data[\"Species\"])"
   ]
  },
  {
   "cell_type": "code",
   "execution_count": 10,
   "id": "5563a049",
   "metadata": {},
   "outputs": [
    {
     "data": {
      "text/html": [
       "<div>\n",
       "<style scoped>\n",
       "    .dataframe tbody tr th:only-of-type {\n",
       "        vertical-align: middle;\n",
       "    }\n",
       "\n",
       "    .dataframe tbody tr th {\n",
       "        vertical-align: top;\n",
       "    }\n",
       "\n",
       "    .dataframe thead th {\n",
       "        text-align: right;\n",
       "    }\n",
       "</style>\n",
       "<table border=\"1\" class=\"dataframe\">\n",
       "  <thead>\n",
       "    <tr style=\"text-align: right;\">\n",
       "      <th></th>\n",
       "      <th>Species</th>\n",
       "      <th>Weight</th>\n",
       "      <th>Length1</th>\n",
       "      <th>Length2</th>\n",
       "      <th>Length3</th>\n",
       "      <th>Height</th>\n",
       "      <th>Width</th>\n",
       "    </tr>\n",
       "  </thead>\n",
       "  <tbody>\n",
       "    <tr>\n",
       "      <th>0</th>\n",
       "      <td>0</td>\n",
       "      <td>242.0</td>\n",
       "      <td>23.2</td>\n",
       "      <td>25.4</td>\n",
       "      <td>30.0</td>\n",
       "      <td>11.5200</td>\n",
       "      <td>4.0200</td>\n",
       "    </tr>\n",
       "    <tr>\n",
       "      <th>1</th>\n",
       "      <td>0</td>\n",
       "      <td>290.0</td>\n",
       "      <td>24.0</td>\n",
       "      <td>26.3</td>\n",
       "      <td>31.2</td>\n",
       "      <td>12.4800</td>\n",
       "      <td>4.3056</td>\n",
       "    </tr>\n",
       "    <tr>\n",
       "      <th>2</th>\n",
       "      <td>0</td>\n",
       "      <td>340.0</td>\n",
       "      <td>23.9</td>\n",
       "      <td>26.5</td>\n",
       "      <td>31.1</td>\n",
       "      <td>12.3778</td>\n",
       "      <td>4.6961</td>\n",
       "    </tr>\n",
       "    <tr>\n",
       "      <th>3</th>\n",
       "      <td>0</td>\n",
       "      <td>363.0</td>\n",
       "      <td>26.3</td>\n",
       "      <td>29.0</td>\n",
       "      <td>33.5</td>\n",
       "      <td>12.7300</td>\n",
       "      <td>4.4555</td>\n",
       "    </tr>\n",
       "    <tr>\n",
       "      <th>4</th>\n",
       "      <td>0</td>\n",
       "      <td>430.0</td>\n",
       "      <td>26.5</td>\n",
       "      <td>29.0</td>\n",
       "      <td>34.0</td>\n",
       "      <td>12.4440</td>\n",
       "      <td>5.1340</td>\n",
       "    </tr>\n",
       "    <tr>\n",
       "      <th>...</th>\n",
       "      <td>...</td>\n",
       "      <td>...</td>\n",
       "      <td>...</td>\n",
       "      <td>...</td>\n",
       "      <td>...</td>\n",
       "      <td>...</td>\n",
       "      <td>...</td>\n",
       "    </tr>\n",
       "    <tr>\n",
       "      <th>154</th>\n",
       "      <td>5</td>\n",
       "      <td>12.2</td>\n",
       "      <td>11.5</td>\n",
       "      <td>12.2</td>\n",
       "      <td>13.4</td>\n",
       "      <td>2.0904</td>\n",
       "      <td>1.3936</td>\n",
       "    </tr>\n",
       "    <tr>\n",
       "      <th>155</th>\n",
       "      <td>5</td>\n",
       "      <td>13.4</td>\n",
       "      <td>11.7</td>\n",
       "      <td>12.4</td>\n",
       "      <td>13.5</td>\n",
       "      <td>2.4300</td>\n",
       "      <td>1.2690</td>\n",
       "    </tr>\n",
       "    <tr>\n",
       "      <th>156</th>\n",
       "      <td>5</td>\n",
       "      <td>12.2</td>\n",
       "      <td>12.1</td>\n",
       "      <td>13.0</td>\n",
       "      <td>13.8</td>\n",
       "      <td>2.2770</td>\n",
       "      <td>1.2558</td>\n",
       "    </tr>\n",
       "    <tr>\n",
       "      <th>157</th>\n",
       "      <td>5</td>\n",
       "      <td>19.7</td>\n",
       "      <td>13.2</td>\n",
       "      <td>14.3</td>\n",
       "      <td>15.2</td>\n",
       "      <td>2.8728</td>\n",
       "      <td>2.0672</td>\n",
       "    </tr>\n",
       "    <tr>\n",
       "      <th>158</th>\n",
       "      <td>5</td>\n",
       "      <td>19.9</td>\n",
       "      <td>13.8</td>\n",
       "      <td>15.0</td>\n",
       "      <td>16.2</td>\n",
       "      <td>2.9322</td>\n",
       "      <td>1.8792</td>\n",
       "    </tr>\n",
       "  </tbody>\n",
       "</table>\n",
       "<p>159 rows × 7 columns</p>\n",
       "</div>"
      ],
      "text/plain": [
       "     Species  Weight  Length1  Length2  Length3   Height   Width\n",
       "0          0   242.0     23.2     25.4     30.0  11.5200  4.0200\n",
       "1          0   290.0     24.0     26.3     31.2  12.4800  4.3056\n",
       "2          0   340.0     23.9     26.5     31.1  12.3778  4.6961\n",
       "3          0   363.0     26.3     29.0     33.5  12.7300  4.4555\n",
       "4          0   430.0     26.5     29.0     34.0  12.4440  5.1340\n",
       "..       ...     ...      ...      ...      ...      ...     ...\n",
       "154        5    12.2     11.5     12.2     13.4   2.0904  1.3936\n",
       "155        5    13.4     11.7     12.4     13.5   2.4300  1.2690\n",
       "156        5    12.2     12.1     13.0     13.8   2.2770  1.2558\n",
       "157        5    19.7     13.2     14.3     15.2   2.8728  2.0672\n",
       "158        5    19.9     13.8     15.0     16.2   2.9322  1.8792\n",
       "\n",
       "[159 rows x 7 columns]"
      ]
     },
     "execution_count": 10,
     "metadata": {},
     "output_type": "execute_result"
    }
   ],
   "source": [
    "data"
   ]
  },
  {
   "cell_type": "code",
   "execution_count": 11,
   "id": "700d4704",
   "metadata": {},
   "outputs": [],
   "source": [
    "x=data.iloc[:,[0,2,3,4,5,6]].values\n",
    "y=data.iloc[:,1].values"
   ]
  },
  {
   "cell_type": "code",
   "execution_count": 12,
   "id": "3051a23d",
   "metadata": {},
   "outputs": [
    {
     "name": "stdout",
     "output_type": "stream",
     "text": [
      "[[ 0.     23.2    25.4    30.     11.52    4.02  ]\n",
      " [ 0.     24.     26.3    31.2    12.48    4.3056]\n",
      " [ 0.     23.9    26.5    31.1    12.3778  4.6961]\n",
      " [ 0.     26.3    29.     33.5    12.73    4.4555]\n",
      " [ 0.     26.5    29.     34.     12.444   5.134 ]\n",
      " [ 0.     26.8    29.7    34.7    13.6024  4.9274]\n",
      " [ 0.     26.8    29.7    34.5    14.1795  5.2785]\n",
      " [ 0.     27.6    30.     35.     12.67    4.69  ]\n",
      " [ 0.     27.6    30.     35.1    14.0049  4.8438]\n",
      " [ 0.     28.5    30.7    36.2    14.2266  4.9594]\n",
      " [ 0.     28.4    31.     36.2    14.2628  5.1042]\n",
      " [ 0.     28.7    31.     36.2    14.3714  4.8146]\n",
      " [ 0.     29.1    31.5    36.4    13.7592  4.368 ]\n",
      " [ 0.     29.5    32.     37.3    13.9129  5.0728]\n",
      " [ 0.     29.4    32.     37.2    14.9544  5.1708]\n",
      " [ 0.     29.4    32.     37.2    15.438   5.58  ]\n",
      " [ 0.     30.4    33.     38.3    14.8604  5.2854]\n",
      " [ 0.     30.4    33.     38.5    14.938   5.1975]\n",
      " [ 0.     30.9    33.5    38.6    15.633   5.1338]\n",
      " [ 0.     31.     33.5    38.7    14.4738  5.7276]\n",
      " [ 0.     31.3    34.     39.5    15.1285  5.5695]\n",
      " [ 0.     31.4    34.     39.2    15.9936  5.3704]\n",
      " [ 0.     31.5    34.5    39.7    15.5227  5.2801]\n",
      " [ 0.     31.8    35.     40.6    15.4686  6.1306]\n",
      " [ 0.     31.9    35.     40.5    16.2405  5.589 ]\n",
      " [ 0.     31.8    35.     40.9    16.36    6.0532]\n",
      " [ 0.     32.     35.     40.6    16.3618  6.09  ]\n",
      " [ 0.     32.7    36.     41.5    16.517   5.8515]\n",
      " [ 0.     32.8    36.     41.6    16.8896  6.1984]\n",
      " [ 0.     33.5    37.     42.6    18.957   6.603 ]\n",
      " [ 0.     35.     38.5    44.1    18.0369  6.3063]\n",
      " [ 0.     35.     38.5    44.     18.084   6.292 ]\n",
      " [ 0.     36.2    39.5    45.3    18.7542  6.7497]\n",
      " [ 0.     37.4    41.     45.9    18.6354  6.7473]\n",
      " [ 0.     38.     41.     46.5    17.6235  6.3705]\n",
      " [ 4.     12.9    14.1    16.2     4.1472  2.268 ]\n",
      " [ 4.     16.5    18.2    20.3     5.2983  2.8217]\n",
      " [ 4.     17.5    18.8    21.2     5.5756  2.9044]\n",
      " [ 4.     18.2    19.8    22.2     5.6166  3.1746]\n",
      " [ 4.     18.6    20.     22.2     6.216   3.5742]\n",
      " [ 4.     19.     20.5    22.8     6.4752  3.3516]\n",
      " [ 4.     19.1    20.8    23.1     6.1677  3.3957]\n",
      " [ 4.     19.4    21.     23.7     6.1146  3.2943]\n",
      " [ 4.     20.4    22.     24.7     5.8045  3.7544]\n",
      " [ 4.     20.5    22.     24.3     6.6339  3.5478]\n",
      " [ 4.     20.5    22.5    25.3     7.0334  3.8203]\n",
      " [ 4.     21.     22.5    25.      6.55    3.325 ]\n",
      " [ 4.     21.1    22.5    25.      6.4     3.8   ]\n",
      " [ 4.     22.     24.     27.2     7.5344  3.8352]\n",
      " [ 4.     22.     23.4    26.7     6.9153  3.6312]\n",
      " [ 4.     22.1    23.5    26.8     7.3968  4.1272]\n",
      " [ 4.     23.6    25.2    27.9     7.0866  3.906 ]\n",
      " [ 4.     24.     26.     29.2     8.8768  4.4968]\n",
      " [ 4.     25.     27.     30.6     8.568   4.7736]\n",
      " [ 4.     29.5    31.7    35.      9.485   5.355 ]\n",
      " [ 6.     23.6    26.     28.7     8.3804  4.2476]\n",
      " [ 6.     24.1    26.5    29.3     8.1454  4.2485]\n",
      " [ 6.     25.6    28.     30.8     8.778   4.6816]\n",
      " [ 6.     28.5    31.     34.     10.744   6.562 ]\n",
      " [ 6.     33.7    36.4    39.6    11.7612  6.5736]\n",
      " [ 6.     37.3    40.     43.5    12.354   6.525 ]\n",
      " [ 1.     13.5    14.7    16.5     6.8475  2.3265]\n",
      " [ 1.     14.3    15.5    17.4     6.5772  2.3142]\n",
      " [ 1.     16.3    17.7    19.8     7.4052  2.673 ]\n",
      " [ 1.     17.5    19.     21.3     8.3922  2.9181]\n",
      " [ 1.     18.4    20.     22.4     8.8928  3.2928]\n",
      " [ 1.     19.     20.7    23.2     8.5376  3.2944]\n",
      " [ 1.     19.     20.7    23.2     9.396   3.4104]\n",
      " [ 1.     19.8    21.5    24.1     9.7364  3.1571]\n",
      " [ 1.     21.2    23.     25.8    10.3458  3.6636]\n",
      " [ 1.     23.     25.     28.     11.088   4.144 ]\n",
      " [ 1.     24.     26.     29.     11.368   4.234 ]\n",
      " [ 2.      7.5     8.4     8.8     2.112   1.408 ]\n",
      " [ 2.     12.5    13.7    14.7     3.528   1.9992]\n",
      " [ 2.     13.8    15.     16.      3.824   2.432 ]\n",
      " [ 2.     15.     16.2    17.2     4.5924  2.6316]\n",
      " [ 2.     15.7    17.4    18.5     4.588   2.9415]\n",
      " [ 2.     16.2    18.     19.2     5.2224  3.3216]\n",
      " [ 2.     16.8    18.7    19.4     5.1992  3.1234]\n",
      " [ 2.     17.2    19.     20.2     5.6358  3.0502]\n",
      " [ 2.     17.8    19.6    20.8     5.1376  3.0368]\n",
      " [ 2.     18.2    20.     21.      5.082   2.772 ]\n",
      " [ 2.     19.     21.     22.5     5.6925  3.555 ]\n",
      " [ 2.     19.     21.     22.5     5.9175  3.3075]\n",
      " [ 2.     19.     21.     22.5     5.6925  3.6675]\n",
      " [ 2.     19.3    21.3    22.8     6.384   3.534 ]\n",
      " [ 2.     20.     22.     23.5     6.11    3.4075]\n",
      " [ 2.     20.     22.     23.5     5.64    3.525 ]\n",
      " [ 2.     20.     22.     23.5     6.11    3.525 ]\n",
      " [ 2.     20.     22.     23.5     5.875   3.525 ]\n",
      " [ 2.     20.     22.     23.5     5.5225  3.995 ]\n",
      " [ 2.     20.5    22.5    24.      5.856   3.624 ]\n",
      " [ 2.     20.5    22.5    24.      6.792   3.624 ]\n",
      " [ 2.     20.7    22.7    24.2     5.9532  3.63  ]\n",
      " [ 2.     21.     23.     24.5     5.2185  3.626 ]\n",
      " [ 2.     21.5    23.5    25.      6.275   3.725 ]\n",
      " [ 2.     22.     24.     25.5     7.293   3.723 ]\n",
      " [ 2.     22.     24.     25.5     6.375   3.825 ]\n",
      " [ 2.     22.6    24.6    26.2     6.7334  4.1658]\n",
      " [ 2.     23.     25.     26.5     6.4395  3.6835]\n",
      " [ 2.     23.5    25.6    27.      6.561   4.239 ]\n",
      " [ 2.     25.     26.5    28.      7.168   4.144 ]\n",
      " [ 2.     25.2    27.3    28.7     8.323   5.1373]\n",
      " [ 2.     25.4    27.5    28.9     7.1672  4.335 ]\n",
      " [ 2.     25.4    27.5    28.9     7.0516  4.335 ]\n",
      " [ 2.     25.4    27.5    28.9     7.2828  4.5662]\n",
      " [ 2.     25.9    28.     29.4     7.8204  4.2042]\n",
      " [ 2.     26.9    28.7    30.1     7.5852  4.6354]\n",
      " [ 2.     27.8    30.     31.6     7.6156  4.7716]\n",
      " [ 2.     30.5    32.8    34.     10.03    6.018 ]\n",
      " [ 2.     32.     34.5    36.5    10.2565  6.3875]\n",
      " [ 2.     32.5    35.     37.3    11.4884  7.7957]\n",
      " [ 2.     34.     36.5    39.     10.881   6.864 ]\n",
      " [ 2.     34.     36.     38.3    10.6091  6.7408]\n",
      " [ 2.     34.5    37.     39.4    10.835   6.2646]\n",
      " [ 2.     34.6    37.     39.3    10.5717  6.3666]\n",
      " [ 2.     36.5    39.     41.4    11.1366  7.4934]\n",
      " [ 2.     36.5    39.     41.4    11.1366  6.003 ]\n",
      " [ 2.     36.6    39.     41.3    12.4313  7.3514]\n",
      " [ 2.     36.9    40.     42.3    11.9286  7.1064]\n",
      " [ 2.     37.     40.     42.5    11.73    7.225 ]\n",
      " [ 2.     37.     40.     42.4    12.3808  7.4624]\n",
      " [ 2.     37.1    40.     42.5    11.135   6.63  ]\n",
      " [ 2.     39.     42.     44.6    12.8002  6.8684]\n",
      " [ 2.     39.8    43.     45.2    11.9328  7.2772]\n",
      " [ 2.     40.1    43.     45.5    12.5125  7.4165]\n",
      " [ 2.     40.2    43.5    46.     12.604   8.142 ]\n",
      " [ 2.     41.1    44.     46.6    12.4888  7.5958]\n",
      " [ 3.     30.     32.3    34.8     5.568   3.3756]\n",
      " [ 3.     31.7    34.     37.8     5.7078  4.158 ]\n",
      " [ 3.     32.7    35.     38.8     5.9364  4.3844]\n",
      " [ 3.     34.8    37.3    39.8     6.2884  4.0198]\n",
      " [ 3.     35.5    38.     40.5     7.29    4.5765]\n",
      " [ 3.     36.     38.5    41.      6.396   3.977 ]\n",
      " [ 3.     40.     42.5    45.5     7.28    4.3225]\n",
      " [ 3.     40.     42.5    45.5     6.825   4.459 ]\n",
      " [ 3.     40.1    43.     45.8     7.786   5.1296]\n",
      " [ 3.     42.     45.     48.      6.96    4.896 ]\n",
      " [ 3.     43.2    46.     48.7     7.792   4.87  ]\n",
      " [ 3.     44.8    48.     51.2     7.68    5.376 ]\n",
      " [ 3.     48.3    51.7    55.1     8.9262  6.1712]\n",
      " [ 3.     52.     56.     59.7    10.6863  6.9849]\n",
      " [ 3.     56.     60.     64.      9.6     6.144 ]\n",
      " [ 3.     56.     60.     64.      9.6     6.144 ]\n",
      " [ 3.     59.     63.4    68.     10.812   7.48  ]\n",
      " [ 5.      9.3     9.8    10.8     1.7388  1.0476]\n",
      " [ 5.     10.     10.5    11.6     1.972   1.16  ]\n",
      " [ 5.     10.1    10.6    11.6     1.7284  1.1484]\n",
      " [ 5.     10.4    11.     12.      2.196   1.38  ]\n",
      " [ 5.     10.7    11.2    12.4     2.0832  1.2772]\n",
      " [ 5.     10.8    11.3    12.6     1.9782  1.2852]\n",
      " [ 5.     11.3    11.8    13.1     2.2139  1.2838]\n",
      " [ 5.     11.3    11.8    13.1     2.2139  1.1659]\n",
      " [ 5.     11.4    12.     13.2     2.2044  1.1484]\n",
      " [ 5.     11.5    12.2    13.4     2.0904  1.3936]\n",
      " [ 5.     11.7    12.4    13.5     2.43    1.269 ]\n",
      " [ 5.     12.1    13.     13.8     2.277   1.2558]\n",
      " [ 5.     13.2    14.3    15.2     2.8728  2.0672]\n",
      " [ 5.     13.8    15.     16.2     2.9322  1.8792]]\n"
     ]
    }
   ],
   "source": [
    "print(x)"
   ]
  },
  {
   "cell_type": "code",
   "execution_count": 13,
   "id": "238e47ab",
   "metadata": {},
   "outputs": [
    {
     "name": "stdout",
     "output_type": "stream",
     "text": [
      "[ 242.   290.   340.   363.   430.   450.   500.   390.   450.   500.\n",
      "  475.   500.   500.   340.   600.   600.   700.   700.   610.   650.\n",
      "  575.   685.   620.   680.   700.   725.   720.   714.   850.  1000.\n",
      "  920.   955.   925.   975.   950.    40.    69.    78.    87.   120.\n",
      "    0.   110.   120.   150.   145.   160.   140.   160.   169.   161.\n",
      "  200.   180.   290.   272.   390.   270.   270.   306.   540.   800.\n",
      " 1000.    55.    60.    90.   120.   150.   140.   170.   145.   200.\n",
      "  273.   300.     5.9   32.    40.    51.5   70.   100.    78.    80.\n",
      "   85.    85.   110.   115.   125.   130.   120.   120.   130.   135.\n",
      "  110.   130.   150.   145.   150.   170.   225.   145.   188.   180.\n",
      "  197.   218.   300.   260.   265.   250.   250.   300.   320.   514.\n",
      "  556.   840.   685.   700.   700.   690.   900.   650.   820.   850.\n",
      "  900.  1015.   820.  1100.  1000.  1100.  1000.  1000.   200.   300.\n",
      "  300.   300.   430.   345.   456.   510.   540.   500.   567.   770.\n",
      "  950.  1250.  1600.  1550.  1650.     6.7    7.5    7.     9.7    9.8\n",
      "    8.7   10.     9.9    9.8   12.2   13.4   12.2   19.7   19.9]\n"
     ]
    }
   ],
   "source": [
    "print(y)"
   ]
  },
  {
   "cell_type": "code",
   "execution_count": 14,
   "id": "11bf7e81",
   "metadata": {},
   "outputs": [
    {
     "data": {
      "text/plain": [
       "<function matplotlib.pyplot.show(close=None, block=None)>"
      ]
     },
     "execution_count": 14,
     "metadata": {},
     "output_type": "execute_result"
    },
    {
     "data": {
      "image/png": "[encoded data removed]",
      "text/plain": [
       "<Figure size 432x288 with 1 Axes>"
      ]
     },
     "metadata": {
      "needs_background": "light"
     },
     "output_type": "display_data"
    }
   ],
   "source": [
    "plt.hist(x)\n",
    "plt.show"
   ]
  },
  {
   "cell_type": "code",
   "execution_count": 15,
   "id": "a628a386",
   "metadata": {},
   "outputs": [
    {
     "data": {
      "text/plain": [
       "array([[-1.33273018e+00, -3.05788578e-01, -2.82303007e-01,\n",
       "        -1.06020232e-01,  5.96578670e-01, -2.36528948e-01],\n",
       "       [-1.33273018e+00, -2.25507242e-01, -1.98053663e-01,\n",
       "        -2.33668373e-03,  8.21260549e-01, -6.65789457e-02],\n",
       "       [-1.33273018e+00, -2.35542409e-01, -1.79331587e-01,\n",
       "        -1.09769794e-02,  7.97341291e-01,  1.65793169e-01],\n",
       "       [-1.33273018e+00,  5.30159764e-03,  5.46943678e-02,\n",
       "         1.96390116e-01,  8.79771455e-01,  2.26210031e-02],\n",
       "       [-1.33273018e+00,  2.53719316e-02,  5.46943678e-02,\n",
       "         2.39591594e-01,  8.12834979e-01,  4.26371272e-01],\n",
       "       [-1.33273018e+00,  5.54774324e-02,  1.20221635e-01,\n",
       "         3.00073664e-01,  1.08395111e+00,  3.03431249e-01],\n",
       "       [-1.33273018e+00,  5.54774324e-02,  1.20221635e-01,\n",
       "         2.82793073e-01,  1.21901769e+00,  5.12357880e-01],\n",
       "       [-1.33273018e+00,  1.35758768e-01,  1.48304750e-01,\n",
       "         3.25994551e-01,  8.65728838e-01,  1.62163285e-01],\n",
       "       [-1.33273018e+00,  1.35758768e-01,  1.48304750e-01,\n",
       "         3.34634847e-01,  1.17815367e+00,  2.53683979e-01],\n",
       "       [-1.33273018e+00,  2.26075271e-01,  2.13832017e-01,\n",
       "         4.29678099e-01,  1.23004114e+00,  3.22473266e-01],\n",
       "       [-1.33273018e+00,  2.16040104e-01,  2.41915132e-01,\n",
       "         4.29678099e-01,  1.23851352e+00,  4.08638393e-01],\n",
       "       [-1.33273018e+00,  2.46145605e-01,  2.41915132e-01,\n",
       "         4.29678099e-01,  1.26393066e+00,  2.36308139e-01],\n",
       "       [-1.33273018e+00,  2.86286273e-01,  2.88720322e-01,\n",
       "         4.46958690e-01,  1.12064915e+00, -2.94470124e-02],\n",
       "       [-1.33273018e+00,  3.26426940e-01,  3.35525513e-01,\n",
       "         5.24721351e-01,  1.15662166e+00,  3.89953414e-01],\n",
       "       [-1.33273018e+00,  3.16391773e-01,  3.35525513e-01,\n",
       "         5.16081055e-01,  1.40037809e+00,  4.48269591e-01],\n",
       "       [-1.33273018e+00,  3.16391773e-01,  3.35525513e-01,\n",
       "         5.16081055e-01,  1.51356159e+00,  6.91769385e-01],\n",
       "       [-1.33273018e+00,  4.16743443e-01,  4.29135895e-01,\n",
       "         6.11124307e-01,  1.37837799e+00,  5.16463815e-01],\n",
       "       [-1.33273018e+00,  4.16743443e-01,  4.29135895e-01,\n",
       "         6.28404899e-01,  1.39653978e+00,  4.64157774e-01],\n",
       "       [-1.33273018e+00,  4.66919278e-01,  4.75941086e-01,\n",
       "         6.37045194e-01,  1.55920010e+00,  4.26252259e-01],\n",
       "       [-1.33273018e+00,  4.76954445e-01,  4.75941086e-01,\n",
       "         6.45685490e-01,  1.28789673e+00,  7.79600689e-01],\n",
       "       [-1.33273018e+00,  5.07059946e-01,  5.22746277e-01,\n",
       "         7.14807855e-01,  1.44112509e+00,  6.85521223e-01],\n",
       "       [-1.33273018e+00,  5.17095113e-01,  5.22746277e-01,\n",
       "         6.88886968e-01,  1.64359623e+00,  5.67044173e-01],\n",
       "       [-1.33273018e+00,  5.27130280e-01,  5.69551468e-01,\n",
       "         7.32088446e-01,  1.53338508e+00,  5.13309981e-01],\n",
       "       [-1.33273018e+00,  5.57235780e-01,  6.16356659e-01,\n",
       "         8.09851107e-01,  1.52072332e+00,  1.01941109e+00],\n",
       "       [-1.33273018e+00,  5.67270947e-01,  6.16356659e-01,\n",
       "         8.01210812e-01,  1.70138160e+00,  6.97124952e-01],\n",
       "       [-1.33273018e+00,  5.57235780e-01,  6.16356659e-01,\n",
       "         8.35771994e-01,  1.72934981e+00,  9.73353212e-01],\n",
       "       [-1.33273018e+00,  5.77306114e-01,  6.16356659e-01,\n",
       "         8.09851107e-01,  1.72977109e+00,  9.95251532e-01],\n",
       "       [-1.33273018e+00,  6.47552283e-01,  7.09967041e-01,\n",
       "         8.87613768e-01,  1.76609466e+00,  8.53328999e-01],\n",
       "       [-1.33273018e+00,  6.57587450e-01,  7.09967041e-01,\n",
       "         8.96254064e-01,  1.85329931e+00,  1.05975637e+00],\n",
       "       [-1.33273018e+00,  7.27833619e-01,  8.03577423e-01,\n",
       "         9.82657020e-01,  2.33716110e+00,  1.30051887e+00],\n",
       "       [-1.33273018e+00,  8.78361123e-01,  9.43992995e-01,\n",
       "         1.11226146e+00,  2.12181756e+00,  1.12396367e+00],\n",
       "       [-1.33273018e+00,  8.78361123e-01,  9.43992995e-01,\n",
       "         1.10362116e+00,  2.13284102e+00,  1.11545426e+00],\n",
       "       [-1.33273018e+00,  9.98783127e-01,  1.03760338e+00,\n",
       "         1.21594500e+00,  2.28969706e+00,  1.38781462e+00],\n",
       "       [-1.33273018e+00,  1.11920513e+00,  1.17801895e+00,\n",
       "         1.26778678e+00,  2.26189267e+00,  1.38638646e+00],\n",
       "       [-1.33273018e+00,  1.17941613e+00,  1.17801895e+00,\n",
       "         1.31962855e+00,  2.02506393e+00,  1.16216671e+00],\n",
       "       [ 1.02175980e+00, -1.33941077e+00, -1.34010032e+00,\n",
       "        -1.29838103e+00, -1.12897816e+00, -1.27907938e+00],\n",
       "       [ 1.02175980e+00, -9.78144764e-01, -9.56297756e-01,\n",
       "        -9.44128909e-01, -8.59570547e-01, -9.49592982e-01],\n",
       "       [ 1.02175980e+00, -8.77793095e-01, -9.00131527e-01,\n",
       "        -8.66366249e-01, -7.94670250e-01, -9.00381269e-01],\n",
       "       [ 1.02175980e+00, -8.07546926e-01, -8.06521145e-01,\n",
       "        -7.79963292e-01, -7.85074461e-01, -7.39595237e-01],\n",
       "       [ 1.02175980e+00, -7.67406258e-01, -7.87799069e-01,\n",
       "        -7.79963292e-01, -6.44788713e-01, -5.01808049e-01],\n",
       "       [ 1.02175980e+00, -7.27265590e-01, -7.40993878e-01,\n",
       "        -7.28121518e-01, -5.84124605e-01, -6.34269080e-01],\n",
       "       [ 1.02175980e+00, -7.17230423e-01, -7.12910764e-01,\n",
       "        -7.02200631e-01, -6.56093020e-01, -6.08026800e-01],\n",
       "       [ 1.02175980e+00, -6.87124923e-01, -6.94188687e-01,\n",
       "        -6.50358857e-01, -6.68520736e-01, -6.68366192e-01],\n",
       "       [ 1.02175980e+00, -5.86773253e-01, -6.00578305e-01,\n",
       "        -5.63955901e-01, -7.41097664e-01, -3.94577690e-01],\n",
       "       [ 1.02175980e+00, -5.76738086e-01, -6.00578305e-01,\n",
       "        -5.98517084e-01, -5.46981882e-01, -5.17517713e-01],\n",
       "       [ 1.02175980e+00, -5.76738086e-01, -5.53773114e-01,\n",
       "        -5.12114127e-01, -4.53481454e-01, -3.55363036e-01],\n",
       "       [ 1.02175980e+00, -5.26562251e-01, -5.53773114e-01,\n",
       "        -5.38035014e-01, -5.66618142e-01, -6.50097757e-01],\n",
       "       [ 1.02175980e+00, -5.16527084e-01, -5.53773114e-01,\n",
       "        -5.38035014e-01, -6.01724686e-01, -3.67442816e-01],\n",
       "       [ 1.02175980e+00, -4.26210582e-01, -4.13357542e-01,\n",
       "        -3.47948510e-01, -3.36225599e-01, -3.46496597e-01],\n",
       "       [ 1.02175980e+00, -4.26210582e-01, -4.69523771e-01,\n",
       "        -3.91149988e-01, -4.81122006e-01, -4.67889456e-01],\n",
       "       [ 1.02175980e+00, -4.16175415e-01, -4.60162732e-01,\n",
       "        -3.82509692e-01, -3.68430001e-01, -1.72738191e-01],\n",
       "       [ 1.02175980e+00, -2.65647910e-01, -3.01025083e-01,\n",
       "        -2.87466440e-01, -4.41030334e-01, -3.04366134e-01],\n",
       "       [ 1.02175980e+00, -2.25507242e-01, -2.26136778e-01,\n",
       "        -1.75142597e-01, -2.20454374e-02,  4.71971064e-02],\n",
       "       [ 1.02175980e+00, -1.25155573e-01, -1.32526396e-01,\n",
       "        -5.41784576e-02, -9.43181086e-02,  2.11910554e-01],\n",
       "       [ 1.02175980e+00,  3.26426940e-01,  3.07442399e-01,\n",
       "         3.25994551e-01,  1.20299895e-01,  5.57880202e-01],\n",
       "       [ 2.19900479e+00, -2.65647910e-01, -2.26136778e-01,\n",
       "        -2.18344075e-01, -1.38224692e-01, -1.01092602e-01],\n",
       "       [ 2.19900479e+00, -2.15472075e-01, -1.79331587e-01,\n",
       "        -1.66502301e-01, -1.93224944e-01, -1.00557045e-01],\n",
       "       [ 2.19900479e+00, -6.49445711e-02, -3.89160141e-02,\n",
       "        -3.68978663e-02, -4.51689475e-02,  1.57164755e-01],\n",
       "       [ 2.19900479e+00,  2.26075271e-01,  2.41915132e-01,\n",
       "         2.39591594e-01,  4.14960818e-01,  1.27612128e+00],\n",
       "       [ 2.19900479e+00,  7.47903953e-01,  7.47411194e-01,\n",
       "         7.23448151e-01,  6.53029992e-01,  1.28302402e+00],\n",
       "       [ 2.19900479e+00,  1.10916996e+00,  1.08440857e+00,\n",
       "         1.06041968e+00,  7.91771053e-01,  1.25410395e+00],\n",
       "       [-7.44107682e-01, -1.27919977e+00, -1.28393409e+00,\n",
       "        -1.27246014e+00, -4.96990164e-01, -1.24426820e+00],\n",
       "       [-7.44107682e-01, -1.19891844e+00, -1.20904579e+00,\n",
       "        -1.19469748e+00, -5.60252156e-01, -1.25158747e+00],\n",
       "       [-7.44107682e-01, -9.98215098e-01, -1.00310295e+00,\n",
       "        -9.87330388e-01, -3.66464035e-01, -1.03807885e+00],\n",
       "       [-7.44107682e-01, -8.77793095e-01, -8.81409451e-01,\n",
       "        -8.57725953e-01, -1.35462978e-01, -8.92228905e-01],\n",
       "       [-7.44107682e-01, -7.87476592e-01, -7.87799069e-01,\n",
       "        -7.62682701e-01, -1.83007394e-02, -6.69258786e-01],\n",
       "       [-7.44107682e-01, -7.27265590e-01, -7.22271802e-01,\n",
       "        -6.93560336e-01, -1.01433035e-01, -6.68306686e-01],\n",
       "       [-7.44107682e-01, -7.27265590e-01, -7.22271802e-01,\n",
       "        -6.93560336e-01,  9.94700123e-02, -5.99279374e-01],\n",
       "       [-7.44107682e-01, -6.46984255e-01, -6.47383496e-01,\n",
       "        -6.15797675e-01,  1.79138462e-01, -7.50008840e-01],\n",
       "       [-7.44107682e-01, -5.06491917e-01, -5.06967923e-01,\n",
       "        -4.68912649e-01,  3.21764647e-01, -4.48609413e-01],\n",
       "       [-7.44107682e-01, -3.25858912e-01, -3.19747160e-01,\n",
       "        -2.78826145e-01,  4.95471824e-01, -1.62741132e-01],\n",
       "       [-7.44107682e-01, -2.25507242e-01, -2.26136778e-01,\n",
       "        -1.92423188e-01,  5.61004039e-01, -1.09185459e-01],\n",
       "       [-1.55485187e-01, -1.88130979e+00, -1.87367950e+00,\n",
       "        -1.93776291e+00, -1.60530375e+00, -1.79083359e+00],\n",
       "       [-1.55485187e-01, -1.37955144e+00, -1.37754447e+00,\n",
       "        -1.42798547e+00, -1.27389797e+00, -1.43903233e+00],\n",
       "       [-1.55485187e-01, -1.24909427e+00, -1.25585098e+00,\n",
       "        -1.31566162e+00, -1.20462106e+00, -1.18148905e+00],\n",
       "       [-1.55485187e-01, -1.12867227e+00, -1.14351852e+00,\n",
       "        -1.21197807e+00, -1.02478194e+00, -1.06271446e+00],\n",
       "       [-1.55485187e-01, -1.05842610e+00, -1.03118606e+00,\n",
       "        -1.09965423e+00, -1.02581173e+00, -8.78304430e-01],\n",
       "       [-1.55485187e-01, -1.00825027e+00, -9.75019833e-01,\n",
       "        -1.03917216e+00, -8.77334458e-01, -6.52120971e-01],\n",
       "       [-1.55485187e-01, -9.48039264e-01, -9.09492565e-01,\n",
       "        -1.02189157e+00, -8.82764270e-01, -7.70062464e-01],\n",
       "       [-1.55485187e-01, -9.07898596e-01, -8.81409451e-01,\n",
       "        -9.52769205e-01, -7.80580824e-01, -8.13621079e-01],\n",
       "       [-1.55485187e-01, -8.47687594e-01, -8.25243222e-01,\n",
       "        -9.00927431e-01, -8.97181357e-01, -8.21594923e-01],\n",
       "       [-1.55485187e-01, -8.07546926e-01, -7.87799069e-01,\n",
       "        -8.83646840e-01, -9.10194183e-01, -9.79167615e-01],\n",
       "       [-1.55485187e-01, -7.27265590e-01, -6.94188687e-01,\n",
       "        -7.54042405e-01, -7.67310550e-01, -5.13233259e-01],\n",
       "       [-1.55485187e-01, -7.27265590e-01, -6.94188687e-01,\n",
       "        -7.54042405e-01, -7.14650735e-01, -6.60511360e-01],\n",
       "       [-1.55485187e-01, -7.27265590e-01, -6.94188687e-01,\n",
       "        -7.54042405e-01, -7.67310550e-01, -4.46288668e-01],\n",
       "       [-1.55485187e-01, -6.97160090e-01, -6.66105573e-01,\n",
       "        -7.28121518e-01, -6.05469384e-01, -5.25729583e-01],\n",
       "       [-1.55485187e-01, -6.26913921e-01, -6.00578305e-01,\n",
       "        -6.67639449e-01, -6.69597337e-01, -6.01005056e-01],\n",
       "       [-1.55485187e-01, -6.26913921e-01, -6.00578305e-01,\n",
       "        -6.67639449e-01, -7.79597840e-01, -5.31085150e-01],\n",
       "       [-1.55485187e-01, -6.26913921e-01, -6.00578305e-01,\n",
       "        -6.67639449e-01, -6.69597337e-01, -5.31085150e-01],\n",
       "       [-1.55485187e-01, -6.26913921e-01, -6.00578305e-01,\n",
       "        -6.67639449e-01, -7.24597589e-01, -5.31085150e-01],\n",
       "       [-1.55485187e-01, -6.26913921e-01, -6.00578305e-01,\n",
       "        -6.67639449e-01, -8.07097966e-01, -2.51405524e-01],\n",
       "       [-1.55485187e-01, -5.76738086e-01, -5.53773114e-01,\n",
       "        -6.24437970e-01, -7.29044417e-01, -4.72173910e-01],\n",
       "       [-1.55485187e-01, -5.76738086e-01, -5.53773114e-01,\n",
       "        -6.24437970e-01, -5.09979585e-01, -4.72173910e-01],\n",
       "       [-1.55485187e-01, -5.56667752e-01, -5.35051038e-01,\n",
       "        -6.07157379e-01, -7.06295377e-01, -4.68603531e-01],\n",
       "       [-1.55485187e-01, -5.26562251e-01, -5.06967923e-01,\n",
       "        -5.81236492e-01, -8.78247228e-01, -4.70983784e-01],\n",
       "       [-1.55485187e-01, -4.76386416e-01, -4.60162732e-01,\n",
       "        -5.38035014e-01, -6.30980139e-01, -4.12072543e-01],\n",
       "       [-1.55485187e-01, -4.26210582e-01, -4.13357542e-01,\n",
       "        -4.94833536e-01, -3.92723729e-01, -4.13262669e-01],\n",
       "       [-1.55485187e-01, -4.26210582e-01, -4.13357542e-01,\n",
       "        -4.94833536e-01, -6.07575777e-01, -3.52566240e-01],\n",
       "       [-1.55485187e-01, -3.65999580e-01, -3.57191312e-01,\n",
       "        -4.34351466e-01, -5.23694542e-01, -1.49768758e-01],\n",
       "       [-1.55485187e-01, -3.25858912e-01, -3.19747160e-01,\n",
       "        -4.08430579e-01, -5.92479963e-01, -4.36767659e-01],\n",
       "       [-1.55485187e-01, -2.75683077e-01, -2.63580931e-01,\n",
       "        -3.65229101e-01, -5.64043662e-01, -1.06210144e-01],\n",
       "       [-1.55485187e-01, -1.25155573e-01, -1.79331587e-01,\n",
       "        -2.78826145e-01, -4.21979182e-01, -1.62741132e-01],\n",
       "       [-1.55485187e-01, -1.05085239e-01, -1.04443281e-01,\n",
       "        -2.18344075e-01, -1.51658797e-01,  4.28334980e-01],\n",
       "       [-1.55485187e-01, -8.50149050e-02, -8.57212050e-02,\n",
       "        -2.01063484e-01, -4.22166417e-01, -4.90840925e-02],\n",
       "       [-1.55485187e-01, -8.50149050e-02, -8.57212050e-02,\n",
       "        -2.01063484e-01, -4.49221860e-01, -4.90840925e-02],\n",
       "       [-1.55485187e-01, -8.50149050e-02, -8.57212050e-02,\n",
       "        -2.01063484e-01, -3.95110974e-01,  8.84944810e-02],\n",
       "       [-1.55485187e-01, -3.48390702e-02, -3.89160141e-02,\n",
       "        -1.57862005e-01, -2.69289122e-01, -1.26918337e-01],\n",
       "       [-1.55485187e-01,  6.55125994e-02,  2.66112532e-02,\n",
       "        -9.73799359e-02, -3.24336182e-01,  1.29672843e-01],\n",
       "       [-1.55485187e-01,  1.55829102e-01,  1.48304750e-01,\n",
       "         3.22244989e-02, -3.17221256e-01,  2.10720428e-01],\n",
       "       [-1.55485187e-01,  4.26778610e-01,  4.10413819e-01,\n",
       "         2.39591594e-01,  2.47853670e-01,  9.52406994e-01],\n",
       "       [-1.55485187e-01,  5.77306114e-01,  5.69551468e-01,\n",
       "         4.55598986e-01,  3.00864551e-01,  1.17228278e+00],\n",
       "       [-1.55485187e-01,  6.27481949e-01,  6.16356659e-01,\n",
       "         5.24721351e-01,  5.89182892e-01,  2.01025055e+00],\n",
       "       [-1.55485187e-01,  7.78009454e-01,  7.56772232e-01,\n",
       "         6.71606377e-01,  4.47024794e-01,  1.45583032e+00],\n",
       "       [-1.55485187e-01,  7.78009454e-01,  7.09967041e-01,\n",
       "         6.11124307e-01,  3.83388333e-01,  1.38251855e+00],\n",
       "       [-1.55485187e-01,  8.28185288e-01,  8.03577423e-01,\n",
       "         7.06167559e-01,  4.36258788e-01,  1.09914954e+00],\n",
       "       [-1.55485187e-01,  8.38220455e-01,  8.03577423e-01,\n",
       "         6.97527264e-01,  3.74635101e-01,  1.15984597e+00],\n",
       "       [-1.55485187e-01,  1.02888863e+00,  9.90798186e-01,\n",
       "         8.78973472e-01,  5.06846345e-01,  1.83036299e+00],\n",
       "       [-1.55485187e-01,  1.02888863e+00,  9.90798186e-01,\n",
       "         8.78973472e-01,  5.06846345e-01,  9.43481048e-01],\n",
       "       [-1.55485187e-01,  1.03892379e+00,  9.90798186e-01,\n",
       "         8.70333177e-01,  8.09862625e-01,  1.74586404e+00],\n",
       "       [-1.55485187e-01,  1.06902930e+00,  1.08440857e+00,\n",
       "         9.56736133e-01,  6.92208895e-01,  1.60007360e+00],\n",
       "       [-1.55485187e-01,  1.07906446e+00,  1.08440857e+00,\n",
       "         9.74016725e-01,  6.45727831e-01,  1.67064808e+00],\n",
       "       [-1.55485187e-01,  1.07906446e+00,  1.08440857e+00,\n",
       "         9.65376429e-01,  7.98043422e-01,  1.81191604e+00],\n",
       "       [-1.55485187e-01,  1.08909963e+00,  1.08440857e+00,\n",
       "         9.74016725e-01,  5.06471875e-01,  1.31658557e+00],\n",
       "       [-1.55485187e-01,  1.27976780e+00,  1.27162933e+00,\n",
       "         1.15546293e+00,  8.96201318e-01,  1.45844860e+00],\n",
       "       [-1.55485187e-01,  1.36004914e+00,  1.36523971e+00,\n",
       "         1.20730471e+00,  6.93191878e-01,  1.70171037e+00],\n",
       "       [-1.55485187e-01,  1.39015464e+00,  1.36523971e+00,\n",
       "         1.23322559e+00,  8.28866967e-01,  1.78460265e+00],\n",
       "       [-1.55485187e-01,  1.40018981e+00,  1.41204490e+00,\n",
       "         1.27642707e+00,  8.50281959e-01,  2.21632088e+00],\n",
       "       [-1.55485187e-01,  1.49050631e+00,  1.45885010e+00,\n",
       "         1.32826885e+00,  8.23320133e-01,  1.89129745e+00],\n",
       "       [ 4.33137307e-01,  3.76602775e-01,  3.63608628e-01,\n",
       "         3.08713960e-01, -7.96448981e-01, -6.19987567e-01],\n",
       "       [ 4.33137307e-01,  5.47200613e-01,  5.22746277e-01,\n",
       "         5.67922829e-01, -7.63729683e-01, -1.54410249e-01],\n",
       "       [ 4.33137307e-01,  6.47552283e-01,  6.16356659e-01,\n",
       "         6.54325786e-01, -7.10227310e-01, -1.96879786e-02],\n",
       "       [ 4.33137307e-01,  8.58290789e-01,  8.31660537e-01,\n",
       "         7.40728742e-01, -6.27843954e-01, -2.36647961e-01],\n",
       "       [ 4.33137307e-01,  9.28536958e-01,  8.97187805e-01,\n",
       "         8.01210812e-01, -3.93425860e-01,  9.46236302e-02],\n",
       "       [ 4.33137307e-01,  9.78712793e-01,  9.43992995e-01,\n",
       "         8.44412290e-01, -6.02660860e-01, -2.62116659e-01],\n",
       "       [ 4.33137307e-01,  1.38011947e+00,  1.31843452e+00,\n",
       "         1.23322559e+00, -3.95766297e-01, -5.65223804e-02],\n",
       "       [ 4.33137307e-01,  1.38011947e+00,  1.31843452e+00,\n",
       "         1.23322559e+00, -5.02256146e-01,  2.47037237e-02],\n",
       "       [ 4.33137307e-01,  1.39015464e+00,  1.36523971e+00,\n",
       "         1.25914648e+00, -2.77340223e-01,  4.23752994e-01],\n",
       "       [ 4.33137307e-01,  1.58082281e+00,  1.55246048e+00,\n",
       "         1.44923299e+00, -4.70660256e-01,  2.84746270e-01],\n",
       "       [ 4.33137307e-01,  1.70124481e+00,  1.64607086e+00,\n",
       "         1.50971505e+00, -2.75935961e-01,  2.69274631e-01],\n",
       "       [ 4.33137307e-01,  1.86180749e+00,  1.83329162e+00,\n",
       "         1.72572245e+00, -3.02148847e-01,  5.70376526e-01],\n",
       "       [ 4.33137307e-01,  2.21303833e+00,  2.17965004e+00,\n",
       "         2.06269398e+00, -1.04836824e-02,  1.04357065e+00],\n",
       "       [ 4.33137307e-01,  2.58433951e+00,  2.58217468e+00,\n",
       "         2.46014758e+00,  4.01456501e-01,  1.52777344e+00],\n",
       "       [ 4.33137307e-01,  2.98574618e+00,  2.95661621e+00,\n",
       "         2.83168029e+00,  1.47214912e-01,  1.02738494e+00],\n",
       "       [ 4.33137307e-01,  2.98574618e+00,  2.95661621e+00,\n",
       "         2.83168029e+00,  1.47214912e-01,  1.02738494e+00],\n",
       "       [ 4.33137307e-01,  3.28680119e+00,  3.27489150e+00,\n",
       "         3.17729212e+00,  4.30875784e-01,  1.82238915e+00],\n",
       "       [ 1.61038230e+00, -1.70067679e+00, -1.74262496e+00,\n",
       "        -1.76495700e+00, -1.69264883e+00, -2.00529431e+00],\n",
       "       [ 1.61038230e+00, -1.63043062e+00, -1.67709770e+00,\n",
       "        -1.69583463e+00, -1.63806985e+00, -1.93840923e+00],\n",
       "       [ 1.61038230e+00, -1.62039545e+00, -1.66773666e+00,\n",
       "        -1.69583463e+00, -1.69508288e+00, -1.94531196e+00],\n",
       "       [ 1.61038230e+00, -1.59028995e+00, -1.63029251e+00,\n",
       "        -1.66127345e+00, -1.58564408e+00, -1.80749536e+00],\n",
       "       [ 1.61038230e+00, -1.56018445e+00, -1.61157043e+00,\n",
       "        -1.62671227e+00, -1.61204420e+00, -1.86866784e+00],\n",
       "       [ 1.61038230e+00, -1.55014928e+00, -1.60220939e+00,\n",
       "        -1.60943167e+00, -1.63661878e+00, -1.86390733e+00],\n",
       "       [ 1.61038230e+00, -1.49997345e+00, -1.55540420e+00,\n",
       "        -1.56623020e+00, -1.58145470e+00, -1.86474042e+00],\n",
       "       [ 1.61038230e+00, -1.49997345e+00, -1.55540420e+00,\n",
       "        -1.56623020e+00, -1.58145470e+00, -1.93489835e+00],\n",
       "       [ 1.61038230e+00, -1.48993828e+00, -1.53668212e+00,\n",
       "        -1.55758990e+00, -1.58367812e+00, -1.94531196e+00],\n",
       "       [ 1.61038230e+00, -1.47990311e+00, -1.51796005e+00,\n",
       "        -1.54030931e+00, -1.61035909e+00, -1.79940250e+00],\n",
       "       [ 1.61038230e+00, -1.45983278e+00, -1.49923797e+00,\n",
       "        -1.53166901e+00, -1.53087787e+00, -1.87354735e+00],\n",
       "       [ 1.61038230e+00, -1.41969211e+00, -1.44307174e+00,\n",
       "        -1.50574813e+00, -1.56668655e+00, -1.88140219e+00],\n",
       "       [ 1.61038230e+00, -1.30930527e+00, -1.32137825e+00,\n",
       "        -1.38478399e+00, -1.42724336e+00, -1.39856804e+00],\n",
       "       [ 1.61038230e+00, -1.24909427e+00, -1.25585098e+00,\n",
       "        -1.29838103e+00, -1.41334117e+00, -1.51043989e+00]])"
      ]
     },
     "execution_count": 15,
     "metadata": {},
     "output_type": "execute_result"
    }
   ],
   "source": [
    "s=StandardScaler()\n",
    "s1=s.fit_transform(x)\n",
    "s1"
   ]
  },
  {
   "cell_type": "code",
   "execution_count": 16,
   "id": "cd6a29c6",
   "metadata": {},
   "outputs": [
    {
     "data": {
      "text/plain": [
       "<function matplotlib.pyplot.show(close=None, block=None)>"
      ]
     },
     "execution_count": 16,
     "metadata": {},
     "output_type": "execute_result"
    },
    {
     "data": {
      "image/png": "[encoded data removed]",
      "text/plain": [
       "<Figure size 432x288 with 1 Axes>"
      ]
     },
     "metadata": {
      "needs_background": "light"
     },
     "output_type": "display_data"
    }
   ],
   "source": [
    "plt.hist(s1)\n",
    "plt.show"
   ]
  },
  {
   "cell_type": "markdown",
   "id": "c7540329",
   "metadata": {},
   "source": [
    "# Whisker box plot"
   ]
  },
  {
   "cell_type": "code",
   "execution_count": 17,
   "id": "cdd02ffa",
   "metadata": {},
   "outputs": [
    {
     "name": "stderr",
     "output_type": "stream",
     "text": [
      "C:\\Users\\vidya\\anaconda3\\lib\\site-packages\\seaborn\\_decorators.py:36: FutureWarning: Pass the following variable as a keyword arg: x. From version 0.12, the only valid positional argument will be `data`, and passing other arguments without an explicit keyword will result in an error or misinterpretation.\n",
      "  warnings.warn(\n"
     ]
    },
    {
     "data": {
      "text/plain": [
       "Text(0.5, 1.0, 'Outlier of Weight')"
      ]
     },
     "execution_count": 17,
     "metadata": {},
     "output_type": "execute_result"
    },
    {
     "data": {
      "image/png": "[encoded data removed]",
      "text/plain": [
       "<Figure size 432x288 with 1 Axes>"
      ]
     },
     "metadata": {
      "needs_background": "light"
     },
     "output_type": "display_data"
    }
   ],
   "source": [
    "sns.boxplot(data[\"Weight\"])\n",
    "plt.title(\"Outlier of Weight\")"
   ]
  },
  {
   "cell_type": "markdown",
   "id": "94e61b25",
   "metadata": {},
   "source": [
    "# Removing Outlier"
   ]
  },
  {
   "cell_type": "code",
   "execution_count": 18,
   "id": "d74b4ad2",
   "metadata": {},
   "outputs": [],
   "source": [
    "Q1=data[\"Weight\"].quantile(0.25)\n",
    "Q3=data[\"Weight\"].quantile(0.75)\n",
    "IQR=Q3-Q1\n",
    "upper_end=Q3+1.5*IQR\n",
    "lower_end=Q1-1.5*IQR\n",
    "upper=np.where(data[\"Weight\"]>=upper_end)\n",
    "lower=np.where(data[\"Weight\"]<=lower_end)\n",
    "data.drop(upper[0],inplace=True)\n",
    "data.drop(lower[0],inplace=True)"
   ]
  },
  {
   "cell_type": "code",
   "execution_count": 19,
   "id": "a4719d4c",
   "metadata": {},
   "outputs": [
    {
     "data": {
      "text/plain": [
       "Text(0.5, 1.0, 'Outlier Detection of weight')"
      ]
     },
     "execution_count": 19,
     "metadata": {},
     "output_type": "execute_result"
    },
    {
     "data": {
      "image/png": "[encoded data removed]",
      "text/plain": [
       "<Figure size 432x288 with 1 Axes>"
      ]
     },
     "metadata": {
      "needs_background": "light"
     },
     "output_type": "display_data"
    }
   ],
   "source": [
    "sns.boxplot(x=data[\"Weight\"])\n",
    "plt.title(\"Outlier Detection of weight\")"
   ]
  },
  {
   "cell_type": "code",
   "execution_count": 20,
   "id": "7d6784b8",
   "metadata": {},
   "outputs": [
    {
     "data": {
      "text/plain": [
       "<AxesSubplot:>"
      ]
     },
     "execution_count": 20,
     "metadata": {},
     "output_type": "execute_result"
    },
    {
     "data": {
      "image/png": "[encoded data removed]",
      "text/plain": [
       "<Figure size 432x288 with 2 Axes>"
      ]
     },
     "metadata": {
      "needs_background": "light"
     },
     "output_type": "display_data"
    }
   ],
   "source": [
    "a=sns.heatmap(data.corr(),annot=True)\n",
    "a"
   ]
  },
  {
   "cell_type": "code",
   "execution_count": 21,
   "id": "e3d51059",
   "metadata": {},
   "outputs": [],
   "source": [
    "del data[\"Length1\"]"
   ]
  },
  {
   "cell_type": "code",
   "execution_count": 22,
   "id": "e0a25489",
   "metadata": {},
   "outputs": [
    {
     "data": {
      "text/html": [
       "<div>\n",
       "<style scoped>\n",
       "    .dataframe tbody tr th:only-of-type {\n",
       "        vertical-align: middle;\n",
       "    }\n",
       "\n",
       "    .dataframe tbody tr th {\n",
       "        vertical-align: top;\n",
       "    }\n",
       "\n",
       "    .dataframe thead th {\n",
       "        text-align: right;\n",
       "    }\n",
       "</style>\n",
       "<table border=\"1\" class=\"dataframe\">\n",
       "  <thead>\n",
       "    <tr style=\"text-align: right;\">\n",
       "      <th></th>\n",
       "      <th>Species</th>\n",
       "      <th>Weight</th>\n",
       "      <th>Length2</th>\n",
       "      <th>Length3</th>\n",
       "      <th>Height</th>\n",
       "      <th>Width</th>\n",
       "    </tr>\n",
       "  </thead>\n",
       "  <tbody>\n",
       "    <tr>\n",
       "      <th>0</th>\n",
       "      <td>0</td>\n",
       "      <td>242.0</td>\n",
       "      <td>25.4</td>\n",
       "      <td>30.0</td>\n",
       "      <td>11.5200</td>\n",
       "      <td>4.0200</td>\n",
       "    </tr>\n",
       "    <tr>\n",
       "      <th>1</th>\n",
       "      <td>0</td>\n",
       "      <td>290.0</td>\n",
       "      <td>26.3</td>\n",
       "      <td>31.2</td>\n",
       "      <td>12.4800</td>\n",
       "      <td>4.3056</td>\n",
       "    </tr>\n",
       "    <tr>\n",
       "      <th>2</th>\n",
       "      <td>0</td>\n",
       "      <td>340.0</td>\n",
       "      <td>26.5</td>\n",
       "      <td>31.1</td>\n",
       "      <td>12.3778</td>\n",
       "      <td>4.6961</td>\n",
       "    </tr>\n",
       "    <tr>\n",
       "      <th>3</th>\n",
       "      <td>0</td>\n",
       "      <td>363.0</td>\n",
       "      <td>29.0</td>\n",
       "      <td>33.5</td>\n",
       "      <td>12.7300</td>\n",
       "      <td>4.4555</td>\n",
       "    </tr>\n",
       "    <tr>\n",
       "      <th>4</th>\n",
       "      <td>0</td>\n",
       "      <td>430.0</td>\n",
       "      <td>29.0</td>\n",
       "      <td>34.0</td>\n",
       "      <td>12.4440</td>\n",
       "      <td>5.1340</td>\n",
       "    </tr>\n",
       "    <tr>\n",
       "      <th>...</th>\n",
       "      <td>...</td>\n",
       "      <td>...</td>\n",
       "      <td>...</td>\n",
       "      <td>...</td>\n",
       "      <td>...</td>\n",
       "      <td>...</td>\n",
       "    </tr>\n",
       "    <tr>\n",
       "      <th>154</th>\n",
       "      <td>5</td>\n",
       "      <td>12.2</td>\n",
       "      <td>12.2</td>\n",
       "      <td>13.4</td>\n",
       "      <td>2.0904</td>\n",
       "      <td>1.3936</td>\n",
       "    </tr>\n",
       "    <tr>\n",
       "      <th>155</th>\n",
       "      <td>5</td>\n",
       "      <td>13.4</td>\n",
       "      <td>12.4</td>\n",
       "      <td>13.5</td>\n",
       "      <td>2.4300</td>\n",
       "      <td>1.2690</td>\n",
       "    </tr>\n",
       "    <tr>\n",
       "      <th>156</th>\n",
       "      <td>5</td>\n",
       "      <td>12.2</td>\n",
       "      <td>13.0</td>\n",
       "      <td>13.8</td>\n",
       "      <td>2.2770</td>\n",
       "      <td>1.2558</td>\n",
       "    </tr>\n",
       "    <tr>\n",
       "      <th>157</th>\n",
       "      <td>5</td>\n",
       "      <td>19.7</td>\n",
       "      <td>14.3</td>\n",
       "      <td>15.2</td>\n",
       "      <td>2.8728</td>\n",
       "      <td>2.0672</td>\n",
       "    </tr>\n",
       "    <tr>\n",
       "      <th>158</th>\n",
       "      <td>5</td>\n",
       "      <td>19.9</td>\n",
       "      <td>15.0</td>\n",
       "      <td>16.2</td>\n",
       "      <td>2.9322</td>\n",
       "      <td>1.8792</td>\n",
       "    </tr>\n",
       "  </tbody>\n",
       "</table>\n",
       "<p>156 rows × 6 columns</p>\n",
       "</div>"
      ],
      "text/plain": [
       "     Species  Weight  Length2  Length3   Height   Width\n",
       "0          0   242.0     25.4     30.0  11.5200  4.0200\n",
       "1          0   290.0     26.3     31.2  12.4800  4.3056\n",
       "2          0   340.0     26.5     31.1  12.3778  4.6961\n",
       "3          0   363.0     29.0     33.5  12.7300  4.4555\n",
       "4          0   430.0     29.0     34.0  12.4440  5.1340\n",
       "..       ...     ...      ...      ...      ...     ...\n",
       "154        5    12.2     12.2     13.4   2.0904  1.3936\n",
       "155        5    13.4     12.4     13.5   2.4300  1.2690\n",
       "156        5    12.2     13.0     13.8   2.2770  1.2558\n",
       "157        5    19.7     14.3     15.2   2.8728  2.0672\n",
       "158        5    19.9     15.0     16.2   2.9322  1.8792\n",
       "\n",
       "[156 rows x 6 columns]"
      ]
     },
     "execution_count": 22,
     "metadata": {},
     "output_type": "execute_result"
    }
   ],
   "source": [
    "data"
   ]
  },
  {
   "cell_type": "code",
   "execution_count": 23,
   "id": "053bb8b4",
   "metadata": {},
   "outputs": [],
   "source": [
    "x_train,x_test,y_train,y_test=train_test_split(x,y,test_size=0.2,random_state=13)"
   ]
  },
  {
   "cell_type": "code",
   "execution_count": 24,
   "id": "b405a3a7",
   "metadata": {},
   "outputs": [
    {
     "name": "stdout",
     "output_type": "stream",
     "text": [
      "(127, 6)\n",
      "(32, 6)\n",
      "(127,)\n",
      "(32,)\n"
     ]
    }
   ],
   "source": [
    "print((x_train).shape)\n",
    "print((x_test).shape)\n",
    "print((y_train).shape)\n",
    "print((y_test).shape)"
   ]
  },
  {
   "cell_type": "markdown",
   "id": "ea2b0b3b",
   "metadata": {},
   "source": [
    "# Analysis by using Multiple linear regression"
   ]
  },
  {
   "cell_type": "code",
   "execution_count": 25,
   "id": "a25262e6",
   "metadata": {},
   "outputs": [
    {
     "data": {
      "text/html": [
       "<style>#sk-container-id-1 {color: black;background-color: white;}#sk-container-id-1 pre{padding: 0;}#sk-container-id-1 div.sk-toggleable {background-color: white;}#sk-container-id-1 label.sk-toggleable__label {cursor: pointer;display: block;width: 100%;margin-bottom: 0;padding: 0.3em;box-sizing: border-box;text-align: center;}#sk-container-id-1 label.sk-toggleable__label-arrow:before {content: \"▸\";float: left;margin-right: 0.25em;color: #696969;}#sk-container-id-1 label.sk-toggleable__label-arrow:hover:before {color: black;}#sk-container-id-1 div.sk-estimator:hover label.sk-toggleable__label-arrow:before {color: black;}#sk-container-id-1 div.sk-toggleable__content {max-height: 0;max-width: 0;overflow: hidden;text-align: left;background-color: #f0f8ff;}#sk-container-id-1 div.sk-toggleable__content pre {margin: 0.2em;color: black;border-radius: 0.25em;background-color: #f0f8ff;}#sk-container-id-1 input.sk-toggleable__control:checked~div.sk-toggleable__content {max-height: 200px;max-width: 100%;overflow: auto;}#sk-container-id-1 input.sk-toggleable__control:checked~label.sk-toggleable__label-arrow:before {content: \"▾\";}#sk-container-id-1 div.sk-estimator input.sk-toggleable__control:checked~label.sk-toggleable__label {background-color: #d4ebff;}#sk-container-id-1 div.sk-label input.sk-toggleable__control:checked~label.sk-toggleable__label {background-color: #d4ebff;}#sk-container-id-1 input.sk-hidden--visually {border: 0;clip: rect(1px 1px 1px 1px);clip: rect(1px, 1px, 1px, 1px);height: 1px;margin: -1px;overflow: hidden;padding: 0;position: absolute;width: 1px;}#sk-container-id-1 div.sk-estimator {font-family: monospace;background-color: #f0f8ff;border: 1px dotted black;border-radius: 0.25em;box-sizing: border-box;margin-bottom: 0.5em;}#sk-container-id-1 div.sk-estimator:hover {background-color: #d4ebff;}#sk-container-id-1 div.sk-parallel-item::after {content: \"\";width: 100%;border-bottom: 1px solid gray;flex-grow: 1;}#sk-container-id-1 div.sk-label:hover label.sk-toggleable__label {background-color: #d4ebff;}#sk-container-id-1 div.sk-serial::before {content: \"\";position: absolute;border-left: 1px solid gray;box-sizing: border-box;top: 0;bottom: 0;left: 50%;z-index: 0;}#sk-container-id-1 div.sk-serial {display: flex;flex-direction: column;align-items: center;background-color: white;padding-right: 0.2em;padding-left: 0.2em;position: relative;}#sk-container-id-1 div.sk-item {position: relative;z-index: 1;}#sk-container-id-1 div.sk-parallel {display: flex;align-items: stretch;justify-content: center;background-color: white;position: relative;}#sk-container-id-1 div.sk-item::before, #sk-container-id-1 div.sk-parallel-item::before {content: \"\";position: absolute;border-left: 1px solid gray;box-sizing: border-box;top: 0;bottom: 0;left: 50%;z-index: -1;}#sk-container-id-1 div.sk-parallel-item {display: flex;flex-direction: column;z-index: 1;position: relative;background-color: white;}#sk-container-id-1 div.sk-parallel-item:first-child::after {align-self: flex-end;width: 50%;}#sk-container-id-1 div.sk-parallel-item:last-child::after {align-self: flex-start;width: 50%;}#sk-container-id-1 div.sk-parallel-item:only-child::after {width: 0;}#sk-container-id-1 div.sk-dashed-wrapped {border: 1px dashed gray;margin: 0 0.4em 0.5em 0.4em;box-sizing: border-box;padding-bottom: 0.4em;background-color: white;}#sk-container-id-1 div.sk-label label {font-family: monospace;font-weight: bold;display: inline-block;line-height: 1.2em;}#sk-container-id-1 div.sk-label-container {text-align: center;}#sk-container-id-1 div.sk-container {/* jupyter's `normalize.less` sets `[hidden] { display: none; }` but bootstrap.min.css set `[hidden] { display: none !important; }` so we also need the `!important` here to be able to override the default hidden behavior on the sphinx rendered scikit-learn.org. See: https://github.com/scikit-learn/scikit-learn/issues/21755 */display: inline-block !important;position: relative;}#sk-container-id-1 div.sk-text-repr-fallback {display: none;}</style><div id=\"sk-container-id-1\" class=\"sk-top-container\"><div class=\"sk-text-repr-fallback\"><pre>LinearRegression()</pre><b>In a Jupyter environment, please rerun this cell to show the HTML representation or trust the notebook. <br />On GitHub, the HTML representation is unable to render, please try loading this page with nbviewer.org.</b></div><div class=\"sk-container\" hidden><div class=\"sk-item\"><div class=\"sk-estimator sk-toggleable\"><input class=\"sk-toggleable__control sk-hidden--visually\" id=\"sk-estimator-id-1\" type=\"checkbox\" checked><label for=\"sk-estimator-id-1\" class=\"sk-toggleable__label sk-toggleable__label-arrow\">LinearRegression</label><div class=\"sk-toggleable__content\"><pre>LinearRegression()</pre></div></div></div></div></div>"
      ],
      "text/plain": [
       "LinearRegression()"
      ]
     },
     "execution_count": 25,
     "metadata": {},
     "output_type": "execute_result"
    }
   ],
   "source": [
    "l1=LinearRegression()\n",
    "l1.fit(x_train,y_train)"
   ]
  },
  {
   "cell_type": "code",
   "execution_count": 26,
   "id": "ddc341c8",
   "metadata": {},
   "outputs": [
    {
     "data": {
      "text/plain": [
       "array([ 849.43105572,  541.83157938,  524.51402475, -140.17098724,\n",
       "        167.06871384,  351.78686985,  943.73900262,  230.38021606,\n",
       "        401.36740647,  975.77025711, 1143.54372722,   47.98044385,\n",
       "        302.92954786,  282.72811737,  897.29570635,  178.94802785,\n",
       "       -194.61125743,  664.2968628 ,  141.12705122,  712.77521878,\n",
       "        454.56332644,  837.88267464,   90.56015679,  477.5131189 ,\n",
       "        459.63842507,  589.58554181,  572.6777243 , -131.35793409,\n",
       "        -23.74800844,  239.43426789,  125.85829098,  223.59409982])"
      ]
     },
     "execution_count": 26,
     "metadata": {},
     "output_type": "execute_result"
    }
   ],
   "source": [
    "y_pred=l1.predict(x_test)\n",
    "y_pred"
   ]
  },
  {
   "cell_type": "code",
   "execution_count": 27,
   "id": "4d7be246",
   "metadata": {},
   "outputs": [
    {
     "name": "stdout",
     "output_type": "stream",
     "text": [
      "99.36075513546191\n",
      "18470.542922921093\n",
      "135.90637557863536\n"
     ]
    }
   ],
   "source": [
    "print(metrics.mean_absolute_error(y_test,y_pred))\n",
    "print(metrics.mean_squared_error(y_test,y_pred))\n",
    "print(np.sqrt(metrics.mean_squared_error(y_test,y_pred)))\n"
   ]
  },
  {
   "cell_type": "code",
   "execution_count": 28,
   "id": "be7c7662",
   "metadata": {},
   "outputs": [
    {
     "data": {
      "text/plain": [
       "87.03758214550389"
      ]
     },
     "execution_count": 28,
     "metadata": {},
     "output_type": "execute_result"
    }
   ],
   "source": [
    "from sklearn.metrics import r2_score\n",
    "r2=r2_score(y_test,y_pred)*100\n",
    "r2"
   ]
  },
  {
   "cell_type": "code",
   "execution_count": null,
   "id": "f30e3e83",
   "metadata": {},
   "outputs": [],
   "source": []
  }
 ],
 "metadata": {
  "kernelspec": {
   "display_name": "Python 3 (ipykernel)",
   "language": "python",
   "name": "python3"
  },
  "language_info": {
   "codemirror_mode": {
    "name": "ipython",
    "version": 3
   },
   "file_extension": ".py",
   "mimetype": "text/x-python",
   "name": "python",
   "nbconvert_exporter": "python",
   "pygments_lexer": "ipython3",
   "version": "3.9.12"
  }
 },
 "nbformat": 4,
 "nbformat_minor": 5
}
